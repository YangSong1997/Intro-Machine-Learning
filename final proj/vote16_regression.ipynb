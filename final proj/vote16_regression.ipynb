{
 "cells": [
  {
   "cell_type": "markdown",
   "metadata": {},
   "source": [
    "<img src=\"http://www.cs.wm.edu/~rml/images/wm_horizontal_single_line_full_color.png\">\n",
    "\n",
    "<h1 style=\"text-align:center;\">CSCI 420/520: Introduction to Machine Learning final exam</h1>\n",
    "<h1 style=\"text-align:center;\">Problem 2</h1>\n",
    "<h1 style=\"text-align:center;\">Due by 1700 on Tuesday, December 12, 2017</h1>"
   ]
  },
  {
   "cell_type": "markdown",
   "metadata": {},
   "source": [
    "# Name: Yang Song"
   ]
  },
  {
   "cell_type": "markdown",
   "metadata": {},
   "source": [
    "# Estimating continuous variables via regression: predicting the vote for the 2016 presidential election\n",
    "\n",
    "In this problem you will look at county-level data for the 2016 presidential election (\"county\" is used loosely here, since Virginia has independent cities that are also included in the data).\n",
    "\n",
    "The goal is to build an algorithm that predicts the number of votes by county for Clinton and Trump."
   ]
  },
  {
   "cell_type": "markdown",
   "metadata": {},
   "source": [
    "# The data\n",
    "\n",
    "The training and test data are in [<code>train_vote16.csv</code>](http://www.cs.wm.edu/~rml/teaching/ml/final/train_vote16.csv) and [<code>test_vote16.csv</code>](http://www.cs.wm.edu/~rml/teaching/ml/final/test_vote16.csv), respectively.  These are CSV files.\n",
    "\n",
    "Column 0 is the class label:\n",
    "<pre>\n",
    "0: won by Clinton\n",
    "1: won by Trump\n",
    "</pre>\n",
    "\n",
    "The next two columns are:\n",
    "<pre>\n",
    "dem: the number of votes for Clinton\n",
    "gop: the number of votes for Trump\n",
    "</pre>\n",
    "\n",
    "The next three columns are:\n",
    "<pre>\n",
    "state_abbr:  the state's abbreviation\n",
    "county_name: the name of the county or city\n",
    "state_fips:  the Federal Information Processing Standards code for the state\n",
    "FIPS:        the Federal Information Processing Standards code for the county or city\n",
    "</pre>\n",
    "\n",
    "These are followed by information about the 2012 election, including the proportion voting for Obama and Romney as well as the vote totals themselves:\n",
    "<pre>\n",
    "total_votes_2012: total number of votes cast in the 2012 election\n",
    "votes_dem_2012:   number of votes cast for the Democratic candidate in 2012\n",
    "votes_rep_2012:   number of votes cast for the Republican candidate in 2012\n",
    "Obama:            percentage voting for Obama in 2012\n",
    "Romney:           percentage voting for Romney in 2012\n",
    "</pre>\n",
    "\n",
    "The remaining columns are demographic data about the county or city:\n",
    "<pre>\n",
    "PST045214: Population, 2014 estimate\n",
    "PST040210: Population, 2010 (April 1) estimates base\n",
    "PST120214: Population, percent change - April 1, 2010 to July 1, 2014\n",
    "POP010210: Population, 2010\n",
    "AGE135214: Persons under 5 years, percent, 2014\n",
    "AGE295214: Persons under 18 years, percent, 2014\n",
    "AGE775214: Persons 65 years and over, percent, 2014\n",
    "SEX255214: Female persons, percent, 2014\n",
    "RHI125214: White alone, percent, 2014\n",
    "RHI225214: Black or African American alone, percent, 2014\n",
    "RHI325214: American Indian and Alaska Native alone, percent, 2014\n",
    "RHI425214: Asian alone, percent, 2014\n",
    "RHI525214: Native Hawaiian and Other Pacific Islander alone, percent, 2014\n",
    "RHI625214: Two or More Races, percent, 2014\n",
    "RHI725214: Hispanic or Latino, percent, 2014\n",
    "RHI825214: White alone, not Hispanic or Latino, percent, 2014\n",
    "POP715213: Living in same house 1 year & over, percent, 2009-2013\n",
    "POP645213: Foreign born persons, percent, 2009-2013\n",
    "POP815213: Language other than English spoken at home, pct age 5+, 2009-2013\n",
    "EDU635213: High school graduate or higher, percent of persons age 25+, 2009-2013\n",
    "EDU685213: Bachelor's degree or higher, percent of persons age 25+, 2009-2013\n",
    "VET605213: Veterans, 2009-2013\n",
    "LFE305213: Mean travel time to work (minutes), workers age 16+, 2009-2013\n",
    "HSG010214: Housing units, 2014\n",
    "HSG445213: Homeownership rate, 2009-2013\n",
    "HSG096213: Housing units in multi-unit structures, percent, 2009-2013\n",
    "HSG495213: Median value of owner-occupied housing units, 2009-2013\n",
    "HSD410213: Households, 2009-2013\n",
    "HSD310213: Persons per household, 2009-2013\n",
    "INC910213: Per capita money income in past 12 months (2013 dollars), 2009-2013\n",
    "INC110213: Median household income, 2009-2013\n",
    "PVY020213: Persons below poverty level, percent, 2009-2013\n",
    "BZA010213: Private nonfarm establishments, 2013\n",
    "BZA110213: Private nonfarm employment,  2013\n",
    "BZA115213: Private nonfarm employment, percent change, 2012-2013\n",
    "NES010213: Nonemployer establishments, 2013\n",
    "SBO001207: Total number of firms, 2007\n",
    "SBO315207: Black-owned firms, percent, 2007\n",
    "SBO115207: American Indian- and Alaska Native-owned firms, percent, 2007\n",
    "SBO215207: Asian-owned firms, percent, 2007\n",
    "SBO515207: Native Hawaiian- and Other Pacific Islander-owned firms, percent, 2007\n",
    "SBO415207: Hispanic-owned firms, percent, 2007\n",
    "SBO015207: Women-owned firms, percent, 2007\n",
    "MAN450207: Manufacturers shipments, 2007 ($1,000)\n",
    "WTN220207: Merchant wholesaler sales, 2007 ($1,000)\n",
    "RTN130207: Retail sales, 2007 ($1,000)\n",
    "RTN131207: Retail sales per capita, 2007\n",
    "AFN120207: Accommodation and food services sales, 2007 ($1,000)\n",
    "BPS030214: Building permits, 2014\n",
    "LND110210: Land area in square miles, 2010\n",
    "POP060210: Population per square mile, 2010\n",
    "</pre>"
   ]
  },
  {
   "cell_type": "markdown",
   "metadata": {},
   "source": [
    "# Building a linear predictor using LASSO\n",
    "\n",
    "Recall how ordinary least squares works.  Suppose we want find a predictor for y_test['dem'], the vector of Clinton vote totals by county.  We find model parameters $m$ that solves\n",
    "$$\n",
    "\\mbox{minimize}\\  ||\\; W m - \\mbox{y_train['dem']} \\;||_{2}^{2},\n",
    "$$\n",
    "where $W$ is the training data x_train with a column of ones appended.  \n",
    "\n",
    "To make a prediction, we take the test inputs x_test, append a column of ones to form a new matrix $V$, and then compute $V \\alpha$.\n",
    "\n",
    "LASSO (least absolute shrinkage and selection operator) is a variant of least squares. It computes $m$ by solving\n",
    "$$\n",
    "\\mbox{minimize}\\  ||\\; W m - \\mbox{y_train['dem']} \\;||_{2}^{2} + \\alpha ||\\; m \\;||_{1}.\n",
    "$$\n",
    "\n",
    "The use of the 1-norm (rather than the 2-norm) has the effect of making many of the components of $m$ zero.  This means that some of the input variables are ignored, thereby simplifying the model.  Higher values of the penalty weight $\\alpha$ increases the number of variables that are ignored, at the possible cost of increasing the training and prediction error."
   ]
  },
  {
   "cell_type": "markdown",
   "metadata": {
    "collapsed": true
   },
   "source": [
    "# To Do\n",
    "\n",
    "* Build a LASSO model that predicts each vote total the using the scikit-learn [Lasso class](http://scikit-learn.org/stable/modules/generated/sklearn.linear_model.Lasso.html).  This means you will be build separate predictors for the vote tallies for Clinton and Trump.\n",
    "    * You will want to use <code>copy_X=True</code> in the constructor calls to make sure the training data isn't trashed in building the predictor.\n",
    "* Your model should have an average error of less than 2000 and a median error of less than 800.  Smaller errors are gooder.\n",
    "* In addition, your model should have no more than 25 model parameters larger than $10^{-4}$ in magnitude.\n",
    "* You are free to scale the variables or apply PCA."
   ]
  },
  {
   "cell_type": "markdown",
   "metadata": {},
   "source": [
    "# Questions to answer\n",
    "\n",
    "* What hyperparameter tuning did you do? I did alpha=1.0, fit_intercept=True, normalize=True, copy_X=True, tol=0.001, random_state=2\n",
    "* Which variables are most important in your model? Romney is the most important variable\n",
    "    * Depending on how you scale the data, you can judge the impact of each feature by looking at the magnitudes of the model coefficients, which are the <code>coef_</code> attribute of the predictor.\n",
    "    * Larger values correspond (generally) to more important variables.  \n",
    "* Discuss whether your model comports with what you believe to be true about the 2016 election. It quite much matches what I believe to be true. E.g., Romney votes correlates pretty much with voters' preferences between parties. \n"
   ]
  },
  {
   "cell_type": "markdown",
   "metadata": {},
   "source": [
    "# What to submit\n",
    "\n",
    "1. This Jupyter notebook, filled out with code that when run will produce two working predictors with all necessary preprocessing.\n",
    "    * You should use your final hyperparameter values in the call to the classifier's constructor."
   ]
  },
  {
   "cell_type": "markdown",
   "metadata": {},
   "source": [
    "<br/><br/>"
   ]
  },
  {
   "cell_type": "markdown",
   "metadata": {},
   "source": [
    "# Your code follows\n",
    "\n",
    "You are free to change the section titles, add sections, &amp;c."
   ]
  },
  {
   "cell_type": "markdown",
   "metadata": {},
   "source": [
    "# Read the data"
   ]
  },
  {
   "cell_type": "code",
   "execution_count": 82,
   "metadata": {
    "scrolled": true
   },
   "outputs": [
    {
     "name": "stdout",
     "output_type": "stream",
     "text": [
      "reading data...done!\n"
     ]
    }
   ],
   "source": [
    "import pandas as pd\n",
    "import numpy  as np\n",
    "\n",
    "print('reading data...', end='')\n",
    "df_train = pd.read_csv('train_vote16.csv')\n",
    "df_test  = pd.read_csv('test_vote16.csv')\n",
    "print('done!')\n",
    "\n",
    "x_train = df_train.iloc[:,3:]\n",
    "x_test  = df_test.iloc[:,3:]\n",
    "\n",
    "y_train = df_train.iloc[:,1:3]\n",
    "y_test  = df_test.iloc[:,1:3]\n"
   ]
  },
  {
   "cell_type": "markdown",
   "metadata": {},
   "source": [
    "# Select the variables you will use as predictors\n",
    "\n",
    "For instance,\n",
    "<code>\n",
    "x_cols = [\"LND110210\", \"POP060210\"]\n",
    "x_train = x_train.loc[:,x_cols].as_matrix().astype(float)\n",
    "</code>\n",
    "would choose variables LND110210 and POP060210 as predictive variables."
   ]
  },
  {
   "cell_type": "code",
   "execution_count": 83,
   "metadata": {},
   "outputs": [],
   "source": [
    "from sklearn.decomposition import PCA\n",
    "from sklearn.pipeline import Pipeline\n",
    "from sklearn.preprocessing import StandardScaler\n",
    "from sklearn.preprocessing import MinMaxScaler\n",
    "\n",
    "\n",
    "y_cols = ['dem', 'gop']\n",
    "x_cols = [\"total_votes_2012\",\"votes_dem_2012\",\"votes_gop_2012\",\"Obama\",\"Romney\",\"PST045214\",\"PST040210\",\"PST120214\",\"POP010210\",\"RHI325214\",\"RHI425214\",\"RHI525214\",\"POP715213\",\"EDU635213\",\"VET605213\",\"LFE305213\",\"HSG096213\",\"HSD310213\",\"INC110213\",\"PVY020213\",\"BZA010213\",\"SBO415207\",\"MAN450207\",\"WTN220207\",\"RTN131207\",\"AFN120207\",\"BPS030214\",\"LND110210\",\"POP060210\"]\n",
    "\n",
    "\n",
    "x_train = x_train.loc[:,x_cols].as_matrix().astype(float)\n",
    "y_train = y_train.loc[:,y_cols].as_matrix().astype(float)\n",
    "\n",
    "x_test = x_test.loc[:,x_cols].as_matrix().astype(float)\n",
    "y_test = y_test.loc[:,y_cols].as_matrix().astype(float)\n",
    "\n",
    "y_train_dict = {'dem': y_train[:,0], \n",
    "           'gop': y_train[:,1]}\n",
    "y_test_dict  = {'dem': y_test[:,0], \n",
    "           'gop': y_test[:,1]}\n"
   ]
  },
  {
   "cell_type": "markdown",
   "metadata": {},
   "source": [
    "# Build the predictors"
   ]
  },
  {
   "cell_type": "code",
   "execution_count": 84,
   "metadata": {},
   "outputs": [],
   "source": [
    "from sklearn import linear_model\n",
    "from sklearn.linear_model import LinearRegression, Lasso\n",
    "# I did the build and train together in the next section\n",
    "\n",
    "\n",
    "\n"
   ]
  },
  {
   "cell_type": "markdown",
   "metadata": {
    "collapsed": true
   },
   "source": [
    "# Train the classifiers"
   ]
  },
  {
   "cell_type": "code",
   "execution_count": 85,
   "metadata": {},
   "outputs": [
    {
     "name": "stdout",
     "output_type": "stream",
     "text": [
      "done training current classifier\n",
      "done training current classifier\n"
     ]
    }
   ],
   "source": [
    "#clf = {}\n",
    "#pipe_lr = Pipeline([('scl', scl),\n",
    "#            ('pca', pca),\n",
    "#            ('lasso', lasso)])\n",
    "#lasso_dem = lasso.fit(x_train_fit, y_train_dem)\n",
    "#lasso_gop = lasso.fit(x_train_fit, y_train_gop)\n",
    "#clf['gop'] = lasso_gop\n",
    "#clf['dem'] = lasso_dem\n",
    "\n",
    "clf={}\n",
    "for key in y_train_dict:\n",
    "  clf[key] = Lasso(alpha=1.0, fit_intercept=True, normalize=True, copy_X=True, tol=0.001, random_state=0)\n",
    "  clf[key].fit(x_train, y_train_dict[key])\n",
    "  print('done training current classifier')\n",
    "\n",
    "\n",
    "\n",
    "\n"
   ]
  },
  {
   "cell_type": "markdown",
   "metadata": {},
   "source": [
    "# Evaluate the classifiers\n",
    "\n",
    "A function that computes various measures of errors follows."
   ]
  },
  {
   "cell_type": "code",
   "execution_count": 86,
   "metadata": {},
   "outputs": [],
   "source": [
    "# A function that computes the errors.\n",
    "from math import sqrt\n",
    "def check_results(clf, x_test, y_test):\n",
    "  y_pred = r = relerr = {}\n",
    "  for party in clf:\n",
    "    y_pred[party] = clf[party].predict(x_test).reshape(y_test[party].shape)\n",
    "\n",
    "    r = y_pred[party] - y_test[party]\n",
    "    relerr = r / y_test[party]\n",
    "\n",
    "    print('{0} classifier:'.format(party))\n",
    "    print('  RMS    error: {0:>7.0f}'.format(sqrt(np.mean(r**2))))\n",
    "    print('  Mean   error: {0:>7.0f}'.format(np.mean(np.abs(r))))\n",
    "    print('  Median error: {0:>7.0f}'.format(np.median(np.abs(r))))\n",
    "    print('  Number of significant (> 1.0e-4) model coefficients: {0}\\n'.\n",
    "              format((np.abs(clf[party].coef_) > 1.0e-4).sum()))\n",
    "  return y_pred"
   ]
  },
  {
   "cell_type": "markdown",
   "metadata": {},
   "source": [
    "**You'll need to complete the following code.**"
   ]
  },
  {
   "cell_type": "code",
   "execution_count": 87,
   "metadata": {},
   "outputs": [
    {
     "name": "stdout",
     "output_type": "stream",
     "text": [
      "dem classifier:\n",
      "  RMS    error:    4838\n",
      "  Mean   error:    1655\n",
      "  Median error:     649\n",
      "  Number of significant (> 1.0e-4) model coefficients: 20\n",
      "\n",
      "gop classifier:\n",
      "  RMS    error:    5188\n",
      "  Mean   error:    1935\n",
      "  Median error:     714\n",
      "  Number of significant (> 1.0e-4) model coefficients: 20\n",
      "\n"
     ]
    }
   ],
   "source": [
    "# We copy the predictors we have built to an iterable object.\n",
    "pred = {}\n",
    "pred['dem'] = clf['dem'].predict(x_test)\n",
    "pred['gop'] = clf['gop'].predict(x_test)\n",
    "y_pred = check_results(clf, x_test, y_test_dict)\n",
    "\n",
    "\n"
   ]
  },
  {
   "cell_type": "markdown",
   "metadata": {},
   "source": [
    "# Look at the model coefficients\n",
    "\n",
    "**You'll need to complete the following code.**\n",
    "\n",
    "The variable <code>x_col</code> is a list of the variables you selected as predictive variables, in the correct order."
   ]
  },
  {
   "cell_type": "code",
   "execution_count": 88,
   "metadata": {},
   "outputs": [
    {
     "name": "stdout",
     "output_type": "stream",
     "text": [
      "                   dem             gop           \n",
      "total_votes_2012   6.775571e-01  -0.000000e+00\n",
      "votes_dem_2012     2.412697e-01  -1.680700e-02\n",
      "votes_gop_2012    -7.611412e-01   9.470718e-01\n",
      "Obama             -0.000000e+00  -0.000000e+00\n",
      "Romney             3.509372e+03   5.752917e+02\n",
      "PST045214          1.285782e-02  -0.000000e+00\n",
      "PST040210          0.000000e+00  -0.000000e+00\n",
      "PST120214         -5.853952e-01   1.434490e+01\n",
      "POP010210          0.000000e+00  -0.000000e+00\n",
      "RHI325214          3.037839e+00  -0.000000e+00\n",
      "RHI425214          7.000332e+02   9.566042e+01\n",
      "RHI525214         -2.852226e+03  -1.030950e+03\n",
      "POP715213          0.000000e+00   8.569070e+01\n",
      "EDU635213         -8.499491e+00  -0.000000e+00\n",
      "VET605213         -2.152821e-01   2.169065e-01\n",
      "LFE305213          2.924365e+01   9.873184e+01\n",
      "HSG096213         -8.157903e+01   4.875204e+01\n",
      "HSD310213          0.000000e+00  -2.062108e+02\n",
      "INC110213          2.293137e-02  -2.621541e-02\n",
      "PVY020213          3.292602e+01  -5.569495e+01\n",
      "BZA010213          1.231337e+00  -1.305849e-01\n",
      "SBO415207          8.418961e+01   4.924486e+01\n",
      "MAN450207         -8.258334e-05  -7.404835e-05\n",
      "WTN220207         -0.000000e+00  -2.064820e-04\n",
      "RTN131207         -3.077584e-03   2.377564e-02\n",
      "AFN120207         -0.000000e+00   2.048937e-04\n",
      "BPS030214          2.179504e+00  -0.000000e+00\n",
      "LND110210          0.000000e+00  -1.623728e-02\n",
      "POP060210          3.549450e-01   9.550264e-02\n"
     ]
    }
   ],
   "source": [
    "print('{0:16s}   {1:14s}  {2:14s}'.format('', 'dem', 'gop'))\n",
    "for k in range(len(x_cols)):\n",
    "    print('{0:16s}  {1: e}  {2: e}'.format(x_cols[k], clf['dem'].coef_[k], clf['gop'].coef_[k]))"
   ]
  },
  {
   "cell_type": "code",
   "execution_count": null,
   "metadata": {},
   "outputs": [],
   "source": []
  }
 ],
 "metadata": {
  "anaconda-cloud": {},
  "kernelspec": {
   "display_name": "Python 3",
   "language": "python",
   "name": "python3"
  },
  "language_info": {
   "codemirror_mode": {
    "name": "ipython",
    "version": 3
   },
   "file_extension": ".py",
   "mimetype": "text/x-python",
   "name": "python",
   "nbconvert_exporter": "python",
   "pygments_lexer": "ipython3",
   "version": "3.7.3"
  }
 },
 "nbformat": 4,
 "nbformat_minor": 1
}
